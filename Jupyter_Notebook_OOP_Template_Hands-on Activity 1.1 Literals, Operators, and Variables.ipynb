{
  "cells": [
    {
      "cell_type": "markdown",
      "metadata": {
        "id": "n3RJ6lG9a5WQ"
      },
      "source": [
        "\n",
        "\n",
        "```\n",
        "# This is formatted as code\n",
        "```\n",
        "\n",
        "# SW#1 - Final"
      ]
    },
    {
      "cell_type": "markdown",
      "metadata": {
        "id": "kPcXQG_va5Wj"
      },
      "source": [
        "Group 3\n",
        "\n",
        "Section: CPE12S6\n",
        "\n",
        "Date performed: April 8, 2024"
      ]
    },
    {
      "cell_type": "markdown",
      "metadata": {
        "id": "NWGvsQDoa5Wr"
      },
      "source": [
        "## Contents\n",
        " - [Procedures](#procedures)\n",
        " - [Supplementary Activity](#supplementary_activities)\n",
        " - [Conclusion](#conclusion)"
      ]
    },
    {
      "cell_type": "markdown",
      "metadata": {
        "id": "3zHBkZJna5Ws"
      },
      "source": [
        "## Instructions for Lab Activities\n",
        "---\n",
        "Document all procedures and supplementary tasks performed in the activity.\n",
        "\n",
        "You may use these links for reference on markdown with Jupyter:\n",
        "\n",
        "https://jupyter-notebook.readthedocs.io/en/stable/examples/Notebook/Notebook%20Basics.html\n",
        "\n",
        "https://colab.research.google.com/notebooks/welcome.ipynb\n",
        "\n",
        "https://colab.research.google.com/notebooks/markdown_guide.ipynb\n",
        "\n",
        "Be creative in documenting how you did the procedures below using the markdown. Also provide your observations as often as necessary per step.\n",
        "\n",
        "Place your code per **In [ ]** corresponding to the specified procedure. An example is given below"
      ]
    },
    {
      "cell_type": "markdown",
      "metadata": {
        "id": "d6GKyAZAa5Wt"
      },
      "source": [
        "## <a id=\"procedures\">Procedures</a>"
      ]
    },
    {
      "cell_type": "markdown",
      "metadata": {
        "id": "gNggN1BYa5Wu"
      },
      "source": [
        "### Assigning variables of different data types in Python"
      ]
    },
    {
      "cell_type": "markdown",
      "metadata": {
        "id": "Xh2wplKua5Wv"
      },
      "source": [
        "1\\. Assign a variable ***value*** to be equal to 1 then display the value using print()"
      ]
    },
    {
      "cell_type": "code",
      "execution_count": null,
      "metadata": {
        "id": "OwIOLZn1a5Wv",
        "outputId": "091ec362-7a17-40b0-a73d-ccebf368f20a"
      },
      "outputs": [
        {
          "name": "stdout",
          "output_type": "stream",
          "text": [
            "1\n"
          ]
        }
      ],
      "source": [
        "value = 1\n",
        "print(value)"
      ]
    },
    {
      "cell_type": "markdown",
      "metadata": {
        "id": "0wdIio5Sa5Wy"
      },
      "source": [
        "2\\. Second step. Note how the numberings are done."
      ]
    },
    {
      "cell_type": "code",
      "execution_count": null,
      "metadata": {
        "id": "7XFA3SbOa5Wz",
        "outputId": "95053e68-f254-4eaa-a410-00faed98bc86"
      },
      "outputs": [
        {
          "data": {
            "text/plain": [
              "int"
            ]
          },
          "execution_count": 3,
          "metadata": {},
          "output_type": "execute_result"
        }
      ],
      "source": [
        "type(value)"
      ]
    },
    {
      "cell_type": "markdown",
      "metadata": {
        "id": "st2IJtCda5W1"
      },
      "source": [
        "### Observation:\n",
        "\n",
        "\n",
        "It can be observed that the **print**(value) code displays the number assigned to the value variable."
      ]
    },
    {
      "cell_type": "markdown",
      "metadata": {
        "id": "LATVq65Ga5W1"
      },
      "source": [
        "## <a id=\"supplementary_activities\">Supplementary Activity</a>"
      ]
    },
    {
      "cell_type": "markdown",
      "source": [
        "#1."
      ],
      "metadata": {
        "id": "eRTtq6OTfqK8"
      }
    },
    {
      "cell_type": "code",
      "execution_count": 6,
      "metadata": {
        "colab": {
          "base_uri": "https://localhost:8080/"
        },
        "id": "sTSf9gvha5W2",
        "outputId": "45f5f4a7-189c-410e-e718-9582dc2ac4cf"
      },
      "outputs": [
        {
          "output_type": "stream",
          "name": "stdout",
          "text": [
            "Enter the base of the triangle10\n",
            "Enter the height of the triangle:5\n",
            "The area of the triangle is 25.0\n"
          ]
        }
      ],
      "source": [
        "base=float(input(\"Enter the base of the triangle\"))\n",
        "height=float(input(\"Enter the height of the triangle:\"))\n",
        "area=0.5 * base * height\n",
        "print(f\"The area of the triangle is {area}\")"
      ]
    },
    {
      "cell_type": "markdown",
      "source": [
        "#2."
      ],
      "metadata": {
        "id": "AdkDgTMXh0f3"
      }
    },
    {
      "cell_type": "code",
      "source": [
        "def celsius_to_fahrenheit(celsius):\n",
        "  fahrenheit=(celsius * 9/5)+32\n",
        "  return fahrenheit\n",
        "\n",
        "celsius_input=float(input(\"Enter the temperature in Celsius:\"))\n",
        "fahrenheit_output=celsius_to_fahrenheit(celsius_input)\n",
        "print(f\"{celsius_input}°C={fahrenheit_output}°F\")"
      ],
      "metadata": {
        "colab": {
          "base_uri": "https://localhost:8080/"
        },
        "id": "iUFdVYaAiDeW",
        "outputId": "ae49e76e-8c8d-4aaf-bba5-4ed1f6753099"
      },
      "execution_count": 8,
      "outputs": [
        {
          "output_type": "stream",
          "name": "stdout",
          "text": [
            "Enter the temperature in Celsius:34\n",
            "34.0°C=93.2°F\n"
          ]
        }
      ]
    },
    {
      "cell_type": "markdown",
      "source": [
        "#3."
      ],
      "metadata": {
        "id": "5RYevowWjmNK"
      }
    },
    {
      "cell_type": "code",
      "source": [
        "def calculate_distance(x1, y1, x2, y2):\n",
        "  distance = ((x2 - x1)**2 + (y2 - y1)**2)**0.5\n",
        "  return distance\n",
        "x1, y1 = 2, 2\n",
        "x2, y2 = -3, 3\n",
        "distance = calculate_distance(x1, y1, x2, y2)\n",
        "print(f\"The distance between the points is: {distance}\")"
      ],
      "metadata": {
        "colab": {
          "base_uri": "https://localhost:8080/"
        },
        "id": "BTyx3FNBjo2R",
        "outputId": "1d443b3c-9079-4cda-c6b1-7b9800b56cb7"
      },
      "execution_count": 9,
      "outputs": [
        {
          "output_type": "stream",
          "name": "stdout",
          "text": [
            "The distance between the points is: 5.0990195135927845\n"
          ]
        }
      ]
    },
    {
      "cell_type": "markdown",
      "source": [
        "#Questions:"
      ],
      "metadata": {
        "id": "cRXyA-oJl2a7"
      }
    },
    {
      "cell_type": "markdown",
      "source": [
        "1.\n",
        "Give one major difference in syntax that Python has with other languages such as C?\n",
        "\n",
        "---\n",
        "One major difference in syntax that Python has compared to languages like C is that Python uses indentation to define code blocks, such as loops, conditions, and functions, while languages like C typically use curly braces {} or keywords like begin and end to denote code blocks.\n",
        "\n",
        "\n"
      ],
      "metadata": {
        "id": "m_5ZuB5RmADf"
      }
    },
    {
      "cell_type": "markdown",
      "source": [
        "2.\n",
        "How does variable assignment differ in Python compared with other languages such as C?*italicized text*\n",
        "\n",
        "---\n",
        "In Python, variable assignment works slightly differently compared to languages like C. In Python, we don't need to explicitly declare the variable type before assigning a value to it. Python dynamically assigns the type of the variable based on the value assigned to it. This means we can assign different types of values to the same variable without any issues.\n"
      ],
      "metadata": {
        "id": "BMI5azEjmDuo"
      }
    },
    {
      "cell_type": "markdown",
      "source": [
        "3.\n",
        "Try assigning variable names that start with numbers, and special characters. Is the assigning of variables that start with numbers accepted by Python? For Special Characters? Is there an exception for variables special characters?\n",
        "\n",
        "---\n",
        "In Python, variable names cannot start with a number or special character. Variable names in Python must start with a letter (a-z, A-Z) or an underscore (_) followed by zero or more letters, digits, or underscores.\n",
        "\n",
        "If you try to assign a variable name that starts with a number or a special character, Python will raise a SyntaxError.\n",
        "\n",
        "Here are examples to show that variables starting with numbers and special characters are not accepted in Python:\n"
      ],
      "metadata": {
        "id": "T-2RS6I6mHFm"
      }
    },
    {
      "cell_type": "code",
      "source": [
        "#Attempting to assign a variable starting with a number:\n",
        "1variable = 10  # SyntaxError: invalid syntax"
      ],
      "metadata": {
        "colab": {
          "base_uri": "https://localhost:8080/",
          "height": 106
        },
        "id": "katZvpKVqC6a",
        "outputId": "4047a232-1cb7-426a-d2fe-db5a68a833cf"
      },
      "execution_count": 10,
      "outputs": [
        {
          "output_type": "error",
          "ename": "SyntaxError",
          "evalue": "invalid decimal literal (<ipython-input-10-2dfafd19e4dc>, line 2)",
          "traceback": [
            "\u001b[0;36m  File \u001b[0;32m\"<ipython-input-10-2dfafd19e4dc>\"\u001b[0;36m, line \u001b[0;32m2\u001b[0m\n\u001b[0;31m    1variable = 10  # SyntaxError: invalid syntax\u001b[0m\n\u001b[0m    ^\u001b[0m\n\u001b[0;31mSyntaxError\u001b[0m\u001b[0;31m:\u001b[0m invalid decimal literal\n"
          ]
        }
      ]
    },
    {
      "cell_type": "code",
      "source": [
        "#Attempting to assign a variable starting with a special character:\n",
        "@variable = 10  # SyntaxError: invalid syntax"
      ],
      "metadata": {
        "colab": {
          "base_uri": "https://localhost:8080/",
          "height": 106
        },
        "id": "gxhL7ef0qMLX",
        "outputId": "3d6eb641-9ac1-4990-cae1-40690eab9bd5"
      },
      "execution_count": 11,
      "outputs": [
        {
          "output_type": "error",
          "ename": "SyntaxError",
          "evalue": "invalid syntax. Maybe you meant '==' or ':=' instead of '='? (<ipython-input-11-9436ecbd9f4e>, line 2)",
          "traceback": [
            "\u001b[0;36m  File \u001b[0;32m\"<ipython-input-11-9436ecbd9f4e>\"\u001b[0;36m, line \u001b[0;32m2\u001b[0m\n\u001b[0;31m    @variable = 10  # SyntaxError: invalid syntax\u001b[0m\n\u001b[0m     ^\u001b[0m\n\u001b[0;31mSyntaxError\u001b[0m\u001b[0;31m:\u001b[0m invalid syntax. Maybe you meant '==' or ':=' instead of '='?\n"
          ]
        }
      ]
    },
    {
      "cell_type": "markdown",
      "source": [
        "In Python, the variable name must adhere to the rules specified above to be valid for assignment."
      ],
      "metadata": {
        "id": "jbFURPAqqVCo"
      }
    },
    {
      "cell_type": "markdown",
      "source": [
        "4.\n",
        "Do the assignment operators (+, -, *, /, %, **) work for all data types? Why or Why not?\n",
        "\n",
        "---\n",
        "In Python, the assignment operators (+, -, *, /, %) work differently for different data types.\n",
        "\n",
        "\n",
        "\n",
        "*   For numeric data types like integers and floating-point numbers, the assignment operators (+, -, *, /, %) work as expected for performing arithmetic operations.\n",
        "*   For strings, the + operator works as a concatenation operator (joining two strings together), and the * operator works as a repetition operator (repeating a string a certain number of times).\n",
        "\n",
        "*   For lists and other iterable data types, the + operator works as a concatenation operator, and the * operator works as a repetition operator.\n",
        "*   Division (/) works differently for integers (result is a float) and floating-point numbers (result is a float).\n",
        "\n",
        "The behavior of assignment operators in Python depends on the data types involved in the operation. Python is a dynamically typed language, which means the behavior of these operators can vary depending on the data types being used."
      ],
      "metadata": {
        "id": "mH7wEScVmKIf"
      }
    },
    {
      "cell_type": "markdown",
      "source": [
        "5.\n",
        "How does the * operator differ from the ** operator?\n",
        "\n",
        "---\n",
        "The * operator is used for multiplication and repetition, while the ** operator is used for exponentiation and accepting keyword arguments in function definitions.\n"
      ],
      "metadata": {
        "id": "HuZOYg1vmNaC"
      }
    },
    {
      "cell_type": "markdown",
      "metadata": {
        "id": "HiyRKe79a5W3"
      },
      "source": [
        "## <a id=\"conclusion\">Conclusion</a>"
      ]
    },
    {
      "cell_type": "markdown",
      "source": [
        "With this lab activity we learned and able to optimized asign and math operators with the use of python programming."
      ],
      "metadata": {
        "id": "q1JYtRVau1BP"
      }
    }
  ],
  "metadata": {
    "kernelspec": {
      "display_name": "Python 3",
      "language": "python",
      "name": "python3"
    },
    "language_info": {
      "codemirror_mode": {
        "name": "ipython",
        "version": 3
      },
      "file_extension": ".py",
      "mimetype": "text/x-python",
      "name": "python",
      "nbconvert_exporter": "python",
      "pygments_lexer": "ipython3",
      "version": "3.7.3"
    },
    "colab": {
      "provenance": []
    }
  },
  "nbformat": 4,
  "nbformat_minor": 0
}