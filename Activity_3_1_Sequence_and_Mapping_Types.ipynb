{
  "cells": [
    {
      "cell_type": "markdown",
      "metadata": {
        "id": "mpMkl-a3XAOM"
      },
      "source": [
        "# Activity 3.1 Sequence and Mapping Types\n",
        "\n",
        "\n"
      ]
    },
    {
      "cell_type": "markdown",
      "metadata": {
        "id": "RCeGFCjBXAOQ"
      },
      "source": [
        "Name:\n",
        "*   Amo, Ralph Christian\n",
        "*   Estabillo, Andrei Migui\n",
        "*   Julongbayan, Danielle Adrian\n",
        "*   Lim, Ezra Jodie\n",
        "*   Quillan, Precious Joy\n",
        "*   Serentas, Doanne\n",
        "\n",
        "\n",
        "\n",
        "\n",
        "\n",
        "Section: CPE12S6\n",
        "\n",
        "Date performed: April 1, 2024"
      ]
    },
    {
      "cell_type": "markdown",
      "metadata": {
        "id": "Gq55BqoGXAOS"
      },
      "source": [
        "## Contents\n",
        " - [Supplementary Activity](#supplementary_activities)\n",
        " - [Conclusion](#conclusion)"
      ]
    },
    {
      "cell_type": "markdown",
      "metadata": {
        "id": "kAjGLSN2XAOW"
      },
      "source": [
        "## <a id=\"supplementary_activities\">Supplementary Activity</a>"
      ]
    },
    {
      "cell_type": "markdown",
      "source": [
        "1. Distance Formula"
      ],
      "metadata": {
        "id": "g6Ym53SxckQ3"
      }
    },
    {
      "cell_type": "code",
      "execution_count": null,
      "metadata": {
        "colab": {
          "base_uri": "https://localhost:8080/"
        },
        "id": "JH7cxvvxXAOX",
        "outputId": "dd8e2e96-3ff3-4f1b-f9eb-144ac09279f9"
      },
      "outputs": [
        {
          "output_type": "stream",
          "name": "stdout",
          "text": [
            "The distance between (1, 1) and (2, 3) is: 2.23606797749979\n"
          ]
        }
      ],
      "source": [
        "import math\n",
        "\n",
        "def calculate_distance(point1, point2):\n",
        "    \"\"\"\n",
        "    Calculate the distance between two points using the distance formula.\n",
        "\n",
        "    Parameters:\n",
        "        point1 (tuple): Coordinates of the first point (x1, y1).\n",
        "        point2 (tuple): Coordinates of the second point (x2, y2).\n",
        "\n",
        "    Returns:\n",
        "        float: Distance between the two points.\n",
        "    \"\"\"\n",
        "    x1, y1 = point1\n",
        "    x2, y2 = point2\n",
        "\n",
        "    distance = math.sqrt((x2 - x1)**2 + (y2 - y1)**2)\n",
        "\n",
        "    return distance\n",
        "\n",
        "def main():\n",
        "    # List of coordinates\n",
        "    coordinates_list = [(1, 1), (2, 3)]\n",
        "\n",
        "    # Extracting points from the list\n",
        "    point1, point2 = coordinates_list\n",
        "\n",
        "    # Calculate distance\n",
        "    distance = calculate_distance(point1, point2)\n",
        "\n",
        "    print(\"The distance between\", point1, \"and\", point2, \"is:\", distance)\n",
        "\n",
        "if __name__ == \"__main__\":\n",
        "    main()"
      ]
    },
    {
      "cell_type": "markdown",
      "source": [
        "2. Simple Word Filler"
      ],
      "metadata": {
        "id": "mUK86_qdcxZy"
      }
    },
    {
      "cell_type": "code",
      "source": [
        "def replace_stupid(input_string):\n",
        "    words = input_string.split()  # Split the input string into words\n",
        "    output_string = \"\"  # Initialize an empty string to store the output\n",
        "\n",
        "    for word in words:\n",
        "        if word.lower() == \"stupid\":  # Check if the word is \"stupid\" (case insensitive)\n",
        "            word_length = len(word)  # Get the length of the word \"stupid\"\n",
        "            output_string += \"*\" * word_length  # Replace \"stupid\" with asterisks\n",
        "        else:\n",
        "            output_string += word  # Keep other words as they are\n",
        "        output_string += \" \"  # Add a space after each word\n",
        "\n",
        "    return output_string.strip()  # Remove trailing whitespace and return the output\n",
        "\n",
        "\n",
        "# Example usage\n",
        "input_string = input(\"Enter a string: \")\n",
        "result = replace_stupid(input_string)\n",
        "print(\"Result:\", result)"
      ],
      "metadata": {
        "colab": {
          "base_uri": "https://localhost:8080/"
        },
        "id": "UE6K3OCrc0eG",
        "outputId": "990d6277-91cc-40fa-98d8-b70fd371d73c"
      },
      "execution_count": null,
      "outputs": [
        {
          "output_type": "stream",
          "name": "stdout",
          "text": [
            "Enter a string: stupid\n",
            "Result: ******\n"
          ]
        }
      ]
    },
    {
      "cell_type": "markdown",
      "source": [
        "3. Phonebook"
      ],
      "metadata": {
        "id": "vSVa565gewZV"
      }
    },
    {
      "cell_type": "code",
      "source": [
        "def display_contact(contacts, contact_id):\n",
        "    for contact in contacts:\n",
        "        if contact['id'] == contact_id:\n",
        "            print(\"Name:\", contact['name'])\n",
        "            print(\"Contact:\", contact['contact'])\n",
        "            print(\"Address:\", contact['address'])\n",
        "            return\n",
        "    print(\"Contact not found.\")\n",
        "\n",
        "def main():\n",
        "    # Sample list of dictionaries representing contacts\n",
        "    contacts = [\n",
        "        {\"id\": 1, \"name\": \"Ralph\", \"contact\": \"1234567890\", \"address\": \"123 Main St\"},\n",
        "        {\"id\": 2, \"name\": \"Christian\", \"contact\": \"0987654321\", \"address\": \"456 Elm St\"},\n",
        "        {\"id\": 3, \"name\": \"Amo\", \"contact\": \"9876543210\", \"address\": \"789 Oak St\"}\n",
        "    ]\n",
        "\n",
        "    while True:\n",
        "        print(\"\\nPhonebook Menu:\")\n",
        "        print(\"1. Search contact by ID\")\n",
        "        print(\"2. Exit\")\n",
        "        choice = input(\"Enter your choice: \")\n",
        "\n",
        "        if choice == '1':\n",
        "            contact_id = int(input(\"Enter the ID of the contact: \"))\n",
        "            display_contact(contacts, contact_id)\n",
        "        elif choice == '2':\n",
        "            print(\"Exiting...\")\n",
        "            break\n",
        "        else:\n",
        "            print(\"Invalid choice. Please try again.\")\n",
        "\n",
        "if __name__ == \"__main__\":\n",
        "    main()"
      ],
      "metadata": {
        "colab": {
          "base_uri": "https://localhost:8080/"
        },
        "id": "2VQIQzBWfBS8",
        "outputId": "bf59f2d4-d5d8-4c66-abdb-343662134ab5"
      },
      "execution_count": null,
      "outputs": [
        {
          "output_type": "stream",
          "name": "stdout",
          "text": [
            "\n",
            "Phonebook Menu:\n",
            "1. Search contact by ID\n",
            "2. Exit\n",
            "Enter your choice: 1\n",
            "Enter the ID of the contact: 2\n",
            "Name: Christian\n",
            "Contact: 0987654321\n",
            "Address: 456 Elm St\n",
            "\n",
            "Phonebook Menu:\n",
            "1. Search contact by ID\n",
            "2. Exit\n",
            "Enter your choice: 1\n",
            "Enter the ID of the contact: 3\n",
            "Name: Amo\n",
            "Contact: 9876543210\n",
            "Address: 789 Oak St\n",
            "\n",
            "Phonebook Menu:\n",
            "1. Search contact by ID\n",
            "2. Exit\n",
            "Enter your choice: 2\n",
            "Exiting...\n"
          ]
        }
      ]
    }
  ],
  "metadata": {
    "kernelspec": {
      "display_name": "Python 3",
      "language": "python",
      "name": "python3"
    },
    "language_info": {
      "codemirror_mode": {
        "name": "ipython",
        "version": 3
      },
      "file_extension": ".py",
      "mimetype": "text/x-python",
      "name": "python",
      "nbconvert_exporter": "python",
      "pygments_lexer": "ipython3",
      "version": "3.7.3"
    },
    "colab": {
      "provenance": []
    }
  },
  "nbformat": 4,
  "nbformat_minor": 0
}