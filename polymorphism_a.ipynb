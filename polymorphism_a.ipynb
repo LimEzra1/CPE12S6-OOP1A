class distance:
    def __init__(self, f, i):
        self.feet = f
        self.inches = i
    def __gt__(self, d):
        if self.feet > d.feet:
            return True
        elif self.feet == d.feet and self.inches > d.inches:
            return True
        else:
            return False
    def __add__(self, d):
        i = self.inches + d.inches
        f = self.feet + d.feet
        if i >= 12:
            i = i - 12
            f = f + 1
        return distance(f, i)
    def show(self):
        print("Feet=", self.feet, "Inches=", self.inches)

a, b = map(int, input("Enter feet and inches of distance1: ").split())
c, d = map(int, input("Enter feet and inches of distance2: ").split())
d1 = distance(a, b)
d2 = distance(c, d)
if d1 > d2:
    print("Distance1 is greater than Distance2")
else:
    print("Distance2 is greater or equal to Distance1")
d3 = d1 + d2
print("Sum of the two distances is:")
d3.show()