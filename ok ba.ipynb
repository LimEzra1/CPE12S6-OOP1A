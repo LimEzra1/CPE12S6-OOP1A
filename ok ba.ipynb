{
  "nbformat": 4,
  "nbformat_minor": 0,
  "metadata": {
    "colab": {
      "provenance": []
    },
    "kernelspec": {
      "name": "python3",
      "display_name": "Python 3"
    },
    "language_info": {
      "name": "python"
    }
  },
  "cells": [
    {
      "cell_type": "code",
      "execution_count": null,
      "metadata": {
        "colab": {
          "base_uri": "https://localhost:8080/"
        },
        "id": "ThEmt5DJ3TFY",
        "outputId": "4241a093-6e0c-4544-ebd9-4754755547ad"
      },
      "outputs": [
        {
          "name": "stdout",
          "output_type": "stream",
          "text": [
            "PRELIM\n",
            "Write HOA grade here: 76\n",
            "Quiz grade: 87\n",
            "Assignment grade: 46\n",
            "Prelim Exam grade: 76\n",
            "MIDTERM\n",
            "Write HOA grade: 46\n",
            "Write quiz: 76\n",
            "Write Assignment: 45\n",
            "Write Exam Here: 76\n",
            "Final\n",
            "Write HOA grade here: 56\n",
            "Quiz grade: 87\n",
            "Assignment grade: 56\n",
            "Prelim Exam grade: 87\n"
          ]
        }
      ],
      "source": [
        "#Prelim\n",
        "print(\"PRELIM\")\n",
        "PHOA=input(\"Write HOA grade here: \")\n",
        "PQ=input(\"Quiz grade: \")\n",
        "PA=input(\"Assignment grade: \")\n",
        "PEx=input(\"Prelim Exam grade: \")\n",
        "#Midterm\n",
        "print(\"MIDTERM\")\n",
        "MHOA=input(\"Write HOA grade: \")\n",
        "MQ=input(\"Write quiz: \")\n",
        "MA=input(\"Write Assignment: \")\n",
        "MEx=input(\"Write Exam Here: \")\n",
        "#Final\n",
        "print(\"Final\")\n",
        "FHOA=input(\"Write HOA grade here: \")\n",
        "FQ=input(\"Quiz grade: \")\n",
        "FA=input(\"Assignment grade: \")\n",
        "FEx=input(\"Prelim Exam grade: \")\n",
        "#Percent formula\n",
        "Per50=50/100\n",
        "Per30=30/100\n",
        "Per10=10/100\n",
        "#Calculating\n",
        "PCS=(Per50*float(PHOA))+(Per30*float(PQ))+(Per10*float(PA))\n",
        "PG=((Per50*float(PEx))+(Per50*float(PCS)))\n",
        "MCS=(Per50*float(MHOA))*(Per30*float(MQ))*(Per10*float(MA))\n",
        "MG=((1/3)*float(PG))+((2/3)*((Per50*float(MEx))+(Per50*float(MCS))))\n",
        "FCS=(Per50*float(FHOA))*(Per30*float(FQ))*(Per10*float(FA))\n",
        "FG=((1/3)*float(MG))+((2/3)*((Per50*float(FEx))+(Per50*float(FCS))))\n",
        "print(\"\")\n"
      ]
    },
    {
      "cell_type": "markdown",
      "source": [
        "MIDTERM GRADE = 1/3 of PRELIM GRADE + 2/3 of (50% Midterm Exam + 50% Midterm Class Standing (CS))\n",
        "\n",
        "FINAL GRADE = 1/3 of MIDTERM GRADE + 2/3 of (50% Final Exam + 50% Final Class Standing (CS))"
      ],
      "metadata": {
        "id": "yD2MGvckZ62U"
      }
    },
    {
      "cell_type": "code",
      "source": [],
      "metadata": {
        "colab": {
          "base_uri": "https://localhost:8080/"
        },
        "id": "cDwWbgWFWr8T",
        "outputId": "87c10522-af70-4f73-8157-eccf41ac3264"
      },
      "execution_count": null,
      "outputs": [
        {
          "output_type": "stream",
          "name": "stdout",
          "text": [
            "1.0\n"
          ]
        }
      ]
    }
  ]
}