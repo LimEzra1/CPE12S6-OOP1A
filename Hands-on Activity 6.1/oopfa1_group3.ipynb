{
  "nbformat": 4,
  "nbformat_minor": 0,
  "metadata": {
    "colab": {
      "provenance": [],
      "authorship_tag": "ABX9TyPgP3uYJaWFjzNH30eGDQRo",
      "include_colab_link": true
    },
    "kernelspec": {
      "name": "python3",
      "display_name": "Python 3"
    },
    "language_info": {
      "name": "python"
    }
  },
  "cells": [
    {
      "cell_type": "markdown",
      "metadata": {
        "id": "view-in-github",
        "colab_type": "text"
      },
      "source": [
        "<a href=\"https://colab.research.google.com/github/qdaajulongbayan01/CPE009A-OOP/blob/main/oopfa1_group3.ipynb\" target=\"_parent\"><img src=\"https://colab.research.google.com/assets/colab-badge.svg\" alt=\"Open In Colab\"/></a>"
      ]
    },
    {
      "cell_type": "markdown",
      "source": [
        "# **Character.py**"
      ],
      "metadata": {
        "id": "VBPTZutUrydq"
      }
    },
    {
      "cell_type": "code",
      "execution_count": 17,
      "metadata": {
        "id": "vGU9cwncqYW1"
      },
      "outputs": [],
      "source": [
        "class Character():\n",
        "  def __init__(self, username):\n",
        "    self.__username=username\n",
        "    self.__hp=100\n",
        "    self.__mana=100\n",
        "    self.__damage=5\n",
        "    self.__str=0 #strength stat\n",
        "    self.__vit=0 #vitality stat\n",
        "    self.__int=0 #intelligence stat\n",
        "    self.__agi=0 #agility stat\n",
        "    self.__SPWins=0 #Singleplayer Wins\n",
        "    self.__PVPWins=0 #Player Vs Player Wins\n",
        "    self.__MaxHp=100 #Max HP\n",
        "  def getUsername(self):\n",
        "    return self.__username\n",
        "  def setUsername(self, new_username):\n",
        "    self.__username=new_username\n",
        "  def getHp(self):\n",
        "    return self.__hp\n",
        "  def setHp(self, new_hp):\n",
        "    self.__hp=new_hp\n",
        "  def getMaxHp(self):\n",
        "    return self.__MaxHp\n",
        "  def setMaxHp(self, new_MaxHp):\n",
        "    self.__MaxHp=new_MaxHp\n",
        "  def getDamage(self):\n",
        "    return self.__damage\n",
        "  def setDamage(self, new_damage):\n",
        "    self.__damage=new_damage\n",
        "  def getStr(self):\n",
        "    return self.__str\n",
        "  def setStr(self, new_str):\n",
        "    self.__str=new_str\n",
        "  def getVit(self):\n",
        "    return self.__vit\n",
        "  def setVit(self, new_vit):\n",
        "    self.__vit=new_vit\n",
        "  def getInt(self):\n",
        "    return self.__int\n",
        "  def setInt(self, new_int):\n",
        "    self.__int=new_int\n",
        "  def getAgi(self):\n",
        "    return self.__agi\n",
        "  def setAgi(self, new_agi):\n",
        "    self.__agi=new_agi\n",
        "  def reduceHp(self, damage_amount):\n",
        "    self.__hp=self.__hp-damage_amount\n",
        "  def addHp(self, heal_amount):\n",
        "    self.__hp=self.__hp+heal_amount\n",
        "  def getSPWins(self):\n",
        "    return self.__SPWins\n",
        "  def addSPWins(self):\n",
        "    self.__SPWins += 1\n",
        "  def getPVPWins(self):\n",
        "    return self.__PVPWins\n",
        "  def addPVPWins(self):\n",
        "    self.__PVPWins += 1\n",
        "  def ClassAscension(self):\n",
        "      self.__SPWins = 3\n",
        "  def restoreHp(self):\n",
        "      self.__Hp = self.__MaxHp"
      ]
    },
    {
      "cell_type": "markdown",
      "source": [
        "# Novice.py"
      ],
      "metadata": {
        "id": "kDltyDKjvkS3"
      }
    },
    {
      "cell_type": "code",
      "source": [
        "class Novice(Character):\n",
        "    def basicAttack(self, character):\n",
        "        character.reduceHp(self.getDamage())\n",
        "        print(f\"{self.getUsername()} performed Basic Attack! -{self.getDamage()}\")"
      ],
      "metadata": {
        "id": "oY5hQOOlvyf4"
      },
      "execution_count": 8,
      "outputs": []
    },
    {
      "cell_type": "markdown",
      "source": [
        "# Swordsman.py"
      ],
      "metadata": {
        "id": "Ds7pAROiPV0U"
      }
    },
    {
      "cell_type": "code",
      "source": [
        "class Swordsman(Novice):\n",
        "    def __init__(self, username):\n",
        "        super().__init__(username)\n",
        "        self.setStr(5)\n",
        "        self.setVit(10)\n",
        "        self.setHp(self.getHp()+self.getVit())\n",
        "        self.setMaxHp(self.getMaxHp()+self.getVit())\n",
        "\n",
        "    def slashAttack(self, character):\n",
        "        self.new_damage=self.getDamage()+self.getStr()\n",
        "        character.reduceHp(self.new_damage)\n",
        "        print(f\"{self.getUsername()} performed Slash Attack! -{self.new_damage}\")"
      ],
      "metadata": {
        "id": "EfldEpDUPZQb"
      },
      "execution_count": 9,
      "outputs": []
    },
    {
      "cell_type": "markdown",
      "source": [
        "# Archer.py"
      ],
      "metadata": {
        "id": "oMkd_7hSPZqh"
      }
    },
    {
      "cell_type": "code",
      "source": [
        "import random\n",
        "\n",
        "class Archer(Novice):\n",
        "    def __init__(self, username):\n",
        "        super().__init__(username)\n",
        "        self.setAgi(5)\n",
        "        self.setInt(5)\n",
        "        self.setVit(5)\n",
        "        self.setHp(self.getHp()+self.getVit())\n",
        "        self.setMaxHp(self.getMaxHp()+self.getVit())\n",
        "\n",
        "    def rangedAttack(self, character):\n",
        "        self.new_damage=self.getDamage()+random.randint(0,self.getInt())\n",
        "        character.reduceHp(self.new_damage)\n",
        "        print(f\"{self.getUsername()} performed Ranged Attack! -{self.new_damage}\")"
      ],
      "metadata": {
        "id": "GXfusYcRPbch"
      },
      "execution_count": 10,
      "outputs": []
    },
    {
      "cell_type": "markdown",
      "source": [
        "# Magician.py"
      ],
      "metadata": {
        "id": "uyNOEbhNPbne"
      }
    },
    {
      "cell_type": "code",
      "source": [
        "class Magician(Novice):\n",
        "    def __init__(self, username):\n",
        "        super().__init__(username)\n",
        "        self.setInt(10)\n",
        "        self.setVit(5)\n",
        "        self.setHp(self.getHp()+self.getVit())\n",
        "        self.setMaxHp(self.getMaxHp()+self.getVit())\n",
        "\n",
        "    def heal(self):\n",
        "        self.addHp(self.getInt())\n",
        "        print(f\"{self.getUsername()} performed Heal! +{self.getInt()}\")\n",
        "\n",
        "    def magicAttack(self, character):\n",
        "        self.new_damage= self.getDamage()+self.getInt()\n",
        "        character.reduceHp(self.new_damage)\n",
        "        print(f\"{self.getUsername()} performed Magic Attack! -{self.new_damage}\")"
      ],
      "metadata": {
        "id": "HQlKAtxnPfis"
      },
      "execution_count": 11,
      "outputs": []
    },
    {
      "cell_type": "markdown",
      "source": [
        "# Test.py"
      ],
      "metadata": {
        "id": "7bq7r360PftD"
      }
    },
    {
      "cell_type": "code",
      "source": [
        "Character1=Swordsman(\"Royce\")\n",
        "Character2=Magician(\"Archie\")\n",
        "print(f\"{Character1.getUsername()} HP: {Character1.getHp()}\")\n",
        "print(f\"{Character2.getUsername()} HP: {Character2.getHp()}\")\n",
        "Character1.slashAttack(Character2)\n",
        "Character1.basicAttack(Character2)\n",
        "print(f\"{Character1.getUsername()} HP: {Character1.getHp()}\")\n",
        "print(f\"{Character2.getUsername()} HP: {Character2.getHp()}\")\n",
        "Character2.heal()\n",
        "Character2.magicAttack(Character1)\n",
        "print(f\"{Character1.getUsername()} HP: {Character1.getHp()}\")\n",
        "print(f\"{Character2.getUsername()} HP: {Character2.getHp()}\")"
      ],
      "metadata": {
        "colab": {
          "base_uri": "https://localhost:8080/"
        },
        "id": "GA33a0XHPkP1",
        "outputId": "8e247930-1f7c-474b-a37c-4cd50147895a"
      },
      "execution_count": 12,
      "outputs": [
        {
          "output_type": "stream",
          "name": "stdout",
          "text": [
            "Royce HP: 110\n",
            "Archie HP: 105\n",
            "Royce performed Slash Attack! -10\n",
            "Royce performed Basic Attack! -5\n",
            "Royce HP: 110\n",
            "Archie HP: 90\n",
            "Archie performed Heal! +10\n",
            "Archie performed Magic Attack! -15\n",
            "Royce HP: 95\n",
            "Archie HP: 100\n"
          ]
        }
      ]
    },
    {
      "cell_type": "markdown",
      "source": [
        "# Boss.py"
      ],
      "metadata": {
        "id": "lDUXLhTbPkjd"
      }
    },
    {
      "cell_type": "code",
      "source": [
        "import random\n",
        "\n",
        "class Boss(Swordsman, Archer, Magician): #Multiple Inheritance\n",
        "    def __init__(self, username):\n",
        "        super().__init__(username)\n",
        "        self.setStr(10)\n",
        "        self.setVit(25)\n",
        "        self.setInt(5)\n",
        "        self.setHp(self.getHp()+self.getVit())\n",
        "        self.setMaxHp(self.getMaxHp()+self.getVit())\n",
        "        attackPattern = [1,1,1,1,1,random.randint(1,4),random.randint(1,4),random.randint(1,4),random.randint(1,4)]\n",
        "        self.attackPattern = random.sample(attackPattern, len(attackPattern))\n",
        "    def attack(self, opponent):\n",
        "        attack_choice = random.choice([\"basic\", \"slash\", \"ranged\", \"magic\", \"heal\"])\n",
        "        if attack_choice == \"basic\":\n",
        "            opponent.reduceHp(self.getDamage())\n",
        "            print(f\"{self.getUsername()} performed Basic Attack! -{self.getDamage()}\")\n",
        "        elif attack_choice == \"slash\":\n",
        "            damage = self.getDamage() + random.randint(0, 5)\n",
        "            opponent.reduceHp(damage)\n",
        "            print(f\"{self.getUsername()} performed Slash Attack! -{damage}\")\n",
        "        elif attack_choice == \"ranged\":\n",
        "            damage = self.getDamage() - random.randint(0, 5)\n",
        "            opponent.reduceHp(damage)\n",
        "            print(f\"{self.getUsername()} performed Ranged Attack! -{damage}\")\n",
        "        elif attack_choice == \"magic\":\n",
        "            damage = self.getDamage() + random.randint(5, 10)\n",
        "            opponent.reduceHp(damage)\n",
        "            print(f\"{self.getUsername()} performed Magic Attack! -{damage}\")\n",
        "        elif attack_choice == \"heal\":\n",
        "            self.addHp(random.randint(5, 15))\n",
        "            print(f\"{self.getUsername()} performed Heal! +{self.getHp()}\")"
      ],
      "metadata": {
        "id": "Q-5lWZ9TPt-J"
      },
      "execution_count": 13,
      "outputs": []
    },
    {
      "cell_type": "markdown",
      "source": [
        "# Test2.py"
      ],
      "metadata": {
        "id": "i1X0posFPvT6"
      }
    },
    {
      "cell_type": "code",
      "source": [
        "Character1=Swordsman(\"Nox\")\n",
        "Character2=Boss(\"Yar'Thul\")\n",
        "print(f\"{Character1.getUsername()} HP: {Character1.getHp()}\")\n",
        "print(f\"{Character2.getUsername()} HP: {Character2.getHp()}\")\n",
        "Character1.slashAttack(Character2)\n",
        "Character1.basicAttack(Character2)\n",
        "print(f\"{Character1.getUsername()} HP: {Character1.getHp()}\")\n",
        "print(f\"{Character2.getUsername()} HP: {Character2.getHp()}\")\n",
        "Character2.heal()\n",
        "Character2.basicAttack(Character1)\n",
        "Character2.slashAttack(Character1)\n",
        "Character2.rangedAttack(Character1)\n",
        "Character2.magicAttack(Character1)\n",
        "print(f\"{Character1.getUsername()} HP: {Character1.getHp()}\")\n",
        "print(f\"{Character2.getUsername()} HP: {Character2.getHp()}\")"
      ],
      "metadata": {
        "colab": {
          "base_uri": "https://localhost:8080/"
        },
        "id": "pD5iA_tqPwWe",
        "outputId": "10ce7df4-9c87-4ea3-bcf3-5e736f945ccd"
      },
      "execution_count": 14,
      "outputs": [
        {
          "output_type": "stream",
          "name": "stdout",
          "text": [
            "Nox HP: 110\n",
            "Yar'Thul HP: 145\n",
            "Nox performed Slash Attack! -10\n",
            "Nox performed Basic Attack! -5\n",
            "Nox HP: 110\n",
            "Yar'Thul HP: 130\n",
            "Yar'Thul performed Heal! +5\n",
            "Yar'Thul performed Basic Attack! -5\n",
            "Yar'Thul performed Slash Attack! -15\n",
            "Yar'Thul performed Ranged Attack! -8\n",
            "Yar'Thul performed Magic Attack! -10\n",
            "Nox HP: 72\n",
            "Yar'Thul HP: 135\n"
          ]
        }
      ]
    },
    {
      "cell_type": "markdown",
      "source": [
        "# ***Game.py***"
      ],
      "metadata": {
        "id": "O4xB80ytPw_a"
      }
    },
    {
      "cell_type": "code",
      "source": [
        "\n",
        "import random\n",
        "from IPython.display import clear_output\n",
        "import time\n",
        "\n",
        "player_list=[]\n",
        "def main_menu():\n",
        "    clear_output()\n",
        "    print(\"==============================\")\n",
        "    print(\"= A R C A N E  L I N E A G E =\")\n",
        "    print(\"==============================\")\n",
        "    print(\"\\n\")\n",
        "    print(\"Select a Mode:\")\n",
        "    print(\"\\t1. Single Player\")\n",
        "    print(\"\\t2. Player VS Player\")\n",
        "    print(\"\\t3. Leaderboard\")\n",
        "    print(\"\\t4. Exit\")\n",
        "\n",
        "    i=1\n",
        "    while i != 0:\n",
        "        choice = int(input(\"||\"))\n",
        "        if choice == 1:\n",
        "            clear_output()\n",
        "            singleplayer()\n",
        "        elif choice == 2:\n",
        "            clear_output()\n",
        "            pvp()\n",
        "        elif choice == 3 and len(player_list) != 0:\n",
        "            clear_output()\n",
        "\n",
        "            print(\"Username\\t||SP Wins\\t||PvP Wins\\n\\n\")\n",
        "            for elem in player_list:\n",
        "                print(f\"{elem.getUsername()}\\t||{elem.getSPWins()}\\t||{elem.getPVPWins()}\")\n",
        "            wait = input(\"Press Enter key to return to main menu\")\n",
        "            main_menu()\n",
        "        elif choice == 3 and len(player_list) == 0:\n",
        "            clear_output()\n",
        "            print(\"No souls registered yet.\")\n",
        "            continue\n",
        "        elif choice == 4:\n",
        "            clear_output()\n",
        "            print(\"\\nThanks for Playing!\")\n",
        "            time.sleep(3)\n",
        "            break\n",
        "        else:\n",
        "            print(\"Invalid Choice\")\n",
        "            continue\n",
        "\n",
        "def action_menu(mode, character):\n",
        "    i = 0\n",
        "    while i!=1:\n",
        "        print(\"\\nChoose an option:\\n\")\n",
        "        time.sleep(0.3)\n",
        "        print(\"1. ATTACK\")\n",
        "        if mode == 1:\n",
        "            print(\"\")\n",
        "            print(\"2. RUN\")\n",
        "            time.sleep(0.3)\n",
        "        choice = int(input(\"||\"))\n",
        "        if choice > 2 and mode!= 1:\n",
        "            print(\"Invalid Input!\")\n",
        "        elif 0<choice<3:\n",
        "            return choice\n",
        "        else:\n",
        "            print(\"Invalid Input!\")\n",
        "            continue\n",
        "\n",
        "def battle_menu(x):\n",
        "    print(\"\\nChoose an Attack:\\n\")\n",
        "    if isinstance(x, Swordsman):\n",
        "        print(\"1. Basic Attack\")\n",
        "        print(\"2. Slash Attack\")\n",
        "        choice = int(input(\"||\"))\n",
        "        i = 1\n",
        "        while i != 0:\n",
        "            if choice==1:\n",
        "                return 1\n",
        "            elif choice==2:\n",
        "                return 2\n",
        "            else:\n",
        "                print(\"Invalid Input!\")\n",
        "                continue\n",
        "    elif isinstance(x, Archer):\n",
        "        print(\"1. Basic Attack\")\n",
        "        print(\"2. Ranged Attack\")\n",
        "        i = 1\n",
        "        while i != 0:\n",
        "            choice = int(input(\"||\"))\n",
        "            if choice==1:\n",
        "                return 1\n",
        "            elif choice == 2:\n",
        "                return 3\n",
        "            else:\n",
        "                print(\"Invalid Input!\")\n",
        "                continue\n",
        "    elif isinstance(x, Magician):\n",
        "        print(\"1. Basic Attack\")\n",
        "        print(\"2. Magic Attack\")\n",
        "        print(\"3. Heal\")\n",
        "        i = 1\n",
        "        while i != 0:\n",
        "            choice = int(input(\"||\"))\n",
        "            if choice==1:\n",
        "                return 1\n",
        "            elif choice==2:\n",
        "                return 4\n",
        "            elif choice==3:\n",
        "                return 5\n",
        "            else:\n",
        "                print(\"Invalid Input!\")\n",
        "                continue\n",
        "    elif isinstance(x, Novice):\n",
        "        print(\"1. Basic Attack\")\n",
        "        i = 1\n",
        "        while i != 0:\n",
        "            choice = int(input(\"||\"))\n",
        "            if choice==1:\n",
        "                return 1\n",
        "            else:\n",
        "                print(\"Invalid Input!\")\n",
        "                continue\n",
        "\n",
        "def battle(attack, player1, player2):\n",
        "    if attack == 1:\n",
        "        player1.basicAttack(player2)\n",
        "    elif attack == 2:\n",
        "        player1.slashAttack(player2)\n",
        "    elif attack == 3:\n",
        "        player1.rangedAttack(player2)\n",
        "    elif attack == 4:\n",
        "        player1.magicAttack(player2)\n",
        "    elif attack == 5:\n",
        "        player1.heal()\n",
        "\n",
        "def battle_status(player, enemy):\n",
        "    print(\"==============================\")\n",
        "    time.sleep(0.3)\n",
        "    print(f\"{enemy.getUsername()}: {enemy.getHp()} / {enemy.getMaxHp()}\")\n",
        "    time.sleep(0.3)\n",
        "    print(\"\\t\\tVS\")\n",
        "    time.sleep(0.3)\n",
        "    print(f\"{player.getUsername()}: {player.getHp()} / {player.getMaxHp()}\")\n",
        "    time.sleep(0.3)\n",
        "    print(\"==============================\")\n",
        "    time.sleep(0.3)\n",
        "\n",
        "def encounter(player, enemy, mode):\n",
        "    clear_output()\n",
        "    if mode == 1:\n",
        "        print(f\"{enemy.getUsername()} approaches you!\\n\")\n",
        "        time.sleep(2)\n",
        "        print(\"\\tEncounter start!\")\n",
        "        time.sleep(2)\n",
        "    else:\n",
        "        print(f\"\\nThe match between {player.getUsername()} and {enemy.getUsername()} is about to begin!\")\n",
        "        time.sleep(3)\n",
        "    i=0\n",
        "    turn=0\n",
        "    battle_status(player, enemy)\n",
        "    while player.getHp() > 0 and enemy.getHp() > 0:\n",
        "        turn = random.randint(0,1)\n",
        "        if turn == 0:\n",
        "            print(f\"{player.getUsername()}'s turn!\\n\")\n",
        "            action = action_menu(mode, player)\n",
        "            if action == 1:\n",
        "             PlayerAttack = battle_menu(player)\n",
        "             clear_output()\n",
        "             battle(PlayerAttack, player, enemy)\n",
        "             time.sleep(0.3)\n",
        "             print(\"\\t\\tOutcome:\")\n",
        "             battle_status(player, enemy)\n",
        "             continue\n",
        "            if action == 2:\n",
        "                if random.randint(0,10) > 3:\n",
        "                    clear_output()\n",
        "                    print(\"Successfully ran away!\")\n",
        "                    player.restoreHp()\n",
        "                    break\n",
        "                else:\n",
        "                    clear_output()\n",
        "                    print(\"Failed to run away!\")\n",
        "                    continue\n",
        "        if mode == 1:\n",
        "            if turn == 1:\n",
        "                print (f\"{enemy.getUsername()}'s turn!\\n\")\n",
        "                time.sleep(1)\n",
        "                EnemyAttack = enemy.attackPattern[i]\n",
        "                battle(EnemyAttack, enemy, player)\n",
        "                i += 1\n",
        "                if i == 8:\n",
        "                    i = 0\n",
        "            time.sleep(0.3)\n",
        "            print(\"\\t\\tOutcome:\")\n",
        "            battle_status(player, enemy)\n",
        "        if mode == 2:\n",
        "            if turn == 1:\n",
        "                print(f\"{enemy.getUsername()}'s turn!\\n\")\n",
        "                action = action_menu(mode, enemy)\n",
        "                clear_output()\n",
        "                if action == 1:\n",
        "                    EnemyAttack = battle_menu(enemy)\n",
        "                    clear_output()\n",
        "                    battle(EnemyAttack, enemy, player)\n",
        "                    time.sleep(0.3)\n",
        "                    print(\"\\t\\tOutcome:\")\n",
        "                    clear_output()\n",
        "                    continue\n",
        "    if player.getHp() <= 0:\n",
        "        player.restoreHP()\n",
        "        enemy.restoreHP()\n",
        "        return 0\n",
        "    elif enemy.getHp() <= 0:\n",
        "        player.restoreHp()\n",
        "        enemy.restoreHp()\n",
        "        return 1\n",
        "\n",
        "def singleplayer():\n",
        "    clear_output()\n",
        "    print(\"===========================\")\n",
        "    print(\"= S I N G L E P L A Y E R =\")\n",
        "    print(\"===========================\")\n",
        "\n",
        "    i = 0\n",
        "    while i != 1:\n",
        "        print(\"Choose an option:\")\n",
        "        print(\"\\n\\n\\t1. Create a New Soul\")\n",
        "        print(\"\\t2. Returning Soul\")\n",
        "        print(\"\\t3. Main Menu\")\n",
        "        choice = int(input(\"||\"))\n",
        "        if choice == 1:\n",
        "            clear_output()\n",
        "            username = str(input(\"\\n\\nEnter the soul's name: \"))\n",
        "            player_list.append(Novice(username))\n",
        "            player = player_list[-1]\n",
        "            print(f\"\\n\\nWelcome {player.getUsername()}!\")\n",
        "            print(\"Your journey awaits.\")\n",
        "            break\n",
        "        elif choice == 2 and len(player_list) != 0:\n",
        "            i = 1\n",
        "            print(\"Choose a save file:\")\n",
        "            for elem in player_list:\n",
        "                print(f\"{i},\", elem.getUsername())\n",
        "                i += 1\n",
        "            load = int(input(\"||\"))\n",
        "            if 0 < load <= len(player_list):\n",
        "                player = player_list[load-1]\n",
        "                clear_output()\n",
        "                print(f\"\\n\\nWelcome back, {player.getUsername()}.\")\n",
        "                break\n",
        "            else:\n",
        "                clear_output()\n",
        "                print(\"Invalid Input!\")\n",
        "                continue\n",
        "        elif choice == 2:\n",
        "            clear_output()\n",
        "            print(\"No past souls yet. Create a new soul first.\")\n",
        "        elif choice == 3:\n",
        "            main_menu()\n",
        "        else:\n",
        "            print(\"Invalid Input!\")\n",
        "            continue\n",
        "\n",
        "    while i != 1:\n",
        "            if player.getSPWins() == 2:\n",
        "                j = 0\n",
        "                print(\"You can now choose your Super Class.\")\n",
        "                print(\"Choose from 3 different options:\")\n",
        "                print(\"\\n1. Swordsman\")\n",
        "                print(\"2. Archer\")\n",
        "                print(\"3. Magician\")\n",
        "                while j != 1:\n",
        "                    class_choice = int(input(\"||\"))\n",
        "                    if class_choice == 1:\n",
        "                        player = Swordsman(player.getUsername())\n",
        "                        print(f\"{player.getUsername()} chose to be a Swordsman.\")\n",
        "                        player.ClassAscension()\n",
        "                        break\n",
        "                    elif class_choice == 2:\n",
        "                        player = Archer(player.getUsername())\n",
        "                        print(f\"{player.getUsername()} chose to be an Archer.\")\n",
        "                        player.ClassAscension()\n",
        "                        break\n",
        "                    elif class_choice == 3:\n",
        "                        player = Magician(player.getUsername())\n",
        "                        print(f\"{player.getUsername()} chose to be a Magician.\")\n",
        "                        player.ClassAscension()\n",
        "                        break\n",
        "                    else:\n",
        "                        print(\"Invalid Input!\")\n",
        "                        continue\n",
        "            time.sleep(0.3)\n",
        "            print(\"\\nChoose an option:\")\n",
        "            time.sleep(0.3)\n",
        "            print(\"1. Start the Encounter\")\n",
        "            time.sleep(0.3)\n",
        "            print(\"2. Save and Quit to Main Menu\")\n",
        "\n",
        "            choice = int(input(\"||\"))\n",
        "            if choice == 1:\n",
        "                enemy = Boss(\"Monster\")\n",
        "                clear_output()\n",
        "                result = encounter(player, enemy, 1)\n",
        "                if result == 0:\n",
        "                    print(\"You have been succumbed to the corruption.\")\n",
        "                    wait = input(\"Press Enter to return to previous checkpoint\")\n",
        "                    clear_output()\n",
        "                elif result == 1:\n",
        "                    print(f\"You have bested {enemy.getUsername()}.\")\n",
        "                    wait = input(\"Press Enter to continue.\")\n",
        "                    clear_output()\n",
        "                    player.addSPWins()\n",
        "            elif choice == 2:\n",
        "                clear_output()\n",
        "                main_menu()\n",
        "            else:\n",
        "                print(\"Invalid Input!\")\n",
        "                continue\n",
        "def pvp():\n",
        "    clear_output()\n",
        "    print(\"====================\")\n",
        "    print(\"= PLAYER vs PLAYER =\")\n",
        "    print(\"====================\")\n",
        "\n",
        "    PlayerUsername = str(input(\"Soul 1's Username: \"))\n",
        "    print(\"Select a Super Class:\")\n",
        "    print(\"\\n1. Swordsman\")\n",
        "    print(\"2. Archer\")\n",
        "    print(\"3. Magician\")\n",
        "    j = 0\n",
        "    while j != 1:\n",
        "        choice = int(input(\"||\"))\n",
        "        if choice == 1:\n",
        "            player = Swordsman(PlayerUsername)\n",
        "            break\n",
        "        if choice == 2:\n",
        "            player = Archer(PlayerUsername)\n",
        "            break\n",
        "        if choice == 3:\n",
        "            player = Magician(PlayerUsername)\n",
        "            break\n",
        "    clear_output()\n",
        "    EnemyUsername = str(input(\"Soul 2's Username: \"))\n",
        "    print(\"Select a Super Class:\")\n",
        "    print(\"\\n1. Swordsman\")\n",
        "    print(\"2. Archer\")\n",
        "    print(\"3. Magician\")\n",
        "    j = 0\n",
        "    while j != 1:\n",
        "        choice = int(input(\"||\"))\n",
        "        if choice == 1:\n",
        "            enemy = Swordsman(EnemyUsername)\n",
        "            break\n",
        "        if choice == 2:\n",
        "            enemy = Archer(EnemyUsername)\n",
        "            break\n",
        "        if choice == 3:\n",
        "            enemy = Magician(EnemyUsername)\n",
        "            break\n",
        "    result = encounter(player, enemy, 2)\n",
        "    if result == 0:\n",
        "        print(f\"{enemy.getUsername()} won.\")\n",
        "        wait = input(\"Press Enter to return to main menu.\")\n",
        "        enemy.addPVPWins()\n",
        "        clear_output()\n",
        "        main_menu()\n",
        "    elif result == 1:\n",
        "        print(f\"{player.getUsername()} won.\")\n",
        "        wait = input(\"Press Enter to return to main menu.\")\n",
        "        player.addPVPWins()\n",
        "        clear_output()\n",
        "        main_menu()\n",
        "\n"
      ],
      "metadata": {
        "id": "zaMb0G0WPzYQ"
      },
      "execution_count": 22,
      "outputs": []
    },
    {
      "cell_type": "code",
      "source": [
        "main_menu()"
      ],
      "metadata": {
        "colab": {
          "base_uri": "https://localhost:8080/"
        },
        "id": "Qc0e42mjWfpR",
        "outputId": "ee9f8687-8bc5-48b1-a5d3-aad810ef4898"
      },
      "execution_count": 24,
      "outputs": [
        {
          "output_type": "stream",
          "name": "stdout",
          "text": [
            "\n",
            "Thanks for Playing!\n"
          ]
        },
        {
          "output_type": "execute_result",
          "data": {
            "text/plain": [
              "0"
            ]
          },
          "metadata": {},
          "execution_count": 24
        }
      ]
    }
  ]
}