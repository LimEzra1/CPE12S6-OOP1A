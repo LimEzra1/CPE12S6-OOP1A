class RegularPolygon:
    def __init__(self, side):
        self._side = side

class Square(RegularPolygon):
    def area(self):
        return self._side * self._side

class EquilateralTriangle(RegularPolygon):
    def area(self):
        return self._side * self._side * 0.433

class Circle(RegularPolygon):
    def area(self):
        return 3.141 * self._side * self._side

class Rectangle(RegularPolygon):
    def area(self):
        return self._side[0] * self._side[1]

class Pentagon(RegularPolygon):
    def area(self):
        return 1.720 * self._side * self._side

obj1 = Square(4)
obj2 = EquilateralTriangle(3)
obj3 = Circle(2)
obj4 = Rectangle([2, 3])
obj5 = Pentagon(5)

print("Area of Square:", obj1.area())
print("Area of Equilateral Triangle:", obj2.area())
print("Area of Circle:", obj3.area())
print("Area of Rectangle:", obj4.area())
print("Area of Pentagon:", obj5.area());pcf