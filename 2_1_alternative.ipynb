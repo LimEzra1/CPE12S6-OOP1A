{
  "nbformat": 4,
  "nbformat_minor": 0,
  "metadata": {
    "colab": {
      "provenance": [],
      "authorship_tag": "ABX9TyO0HiA8MDtHq6wmst9EGhyA",
      "include_colab_link": true
    },
    "kernelspec": {
      "name": "python3",
      "display_name": "Python 3"
    },
    "language_info": {
      "name": "python"
    }
  },
  "cells": [
    {
      "cell_type": "markdown",
      "metadata": {
        "id": "view-in-github",
        "colab_type": "text"
      },
      "source": [
        "<a href=\"https://colab.research.google.com/github/LimEzra1/CPE12S6-OOP1A/blob/main/2_1_alternative.ipynb\" target=\"_parent\"><img src=\"https://colab.research.google.com/assets/colab-badge.svg\" alt=\"Open In Colab\"/></a>"
      ]
    },
    {
      "cell_type": "code",
      "execution_count": null,
      "metadata": {
        "id": "ThEmt5DJ3TFY"
      },
      "outputs": [],
      "source": [
        "def Grades():\n",
        "  #Global?\n",
        "  global PG\n",
        "  global MG\n",
        "  global FG\n",
        "  #Prelim\n",
        "  print(\"PRELIM\")\n",
        "  PHOA=input(\"Write HOA grade here: \")\n",
        "  PQ=input(\"Quiz grade: \")\n",
        "  PA=input(\"Assignment grade: \")\n",
        "  PEx=input(\"Prelim Exam grade: \")\n",
        "  #Midterm\n",
        "  print(\"MIDTERM\")\n",
        "  MHOA=input(\"Write HOA grade: \")\n",
        "  MQ=input(\"Write quiz: \")\n",
        "  MA=input(\"Write Assignment: \")\n",
        "  MEx=input(\"Write Exam Here: \")\n",
        "  #Final\n",
        "  print(\"Final\")\n",
        "  FHOA=input(\"Write HOA grade here: \")\n",
        "  FQ=input(\"Quiz grade: \")\n",
        "  FA=input(\"Assignment grade: \")\n",
        "  FEx=input(\"Prelim Exam grade: \")\n",
        "  #Percent formula\n",
        "  Per50=50/100\n",
        "  Per30=30/100\n",
        "  Per10=10/100\n",
        "  #Calculating\n",
        "  PCS=(Per50*float(PHOA))+(Per30*float(PQ))+(Per10*float(PA))\n",
        "  PG=((Per50*float(PEx))+(Per50*float(PCS)))\n",
        "  MCS=(Per50*float(MHOA))+(Per30*float(MQ))+(Per10*float(MA))\n",
        "  MG=((1/3)*float(PG))+((2/3)*((Per50*float(MEx))+(Per50*float(MCS))))\n",
        "  FCS=(Per50*float(FHOA))+(Per30*float(FQ))+(Per10*float(FA))\n",
        "  FG=((1/3)*float(MG))+((2/3)*((Per50*float(FEx))))+(Per50*float(FCS))\n",
        "def N():\n",
        "  print(\"Prelim grade: \", PG)\n",
        "  print(\"Midterm grade: \", MG)\n",
        "  print(\"Final grade: \", FG)\n",
        "#Numerical Grade\n",
        "def Num_Grades():\n",
        "  if FG>=94 and FG<=100:\n",
        "    print(1.00)\n",
        "  if FG>=88.5 and FG<=93.99:\n",
        "    print(1.25)\n",
        "  if FG>=83 and FG<=88.49:\n",
        "    print(1.50)\n",
        "  if FG>=77.5 and FG<=82.99:\n",
        "    print(1.75)\n",
        "  if FG>=72 and FG<=77.49:\n",
        "    print(2.00)\n",
        "  if FG>=65.5 and FG<=71.99:\n",
        "    print(2.25)\n",
        "  if FG>=61 and FG<=65.49:\n",
        "    print(2.50)\n",
        "  if FG>=55.5 and FG<=60.99:\n",
        "    print(2.75)\n",
        "  if FG>=50 and FG<=55.49:\n",
        "    print(3.00)\n",
        "  if FG>=0 and FG<=49.99:\n",
        "    print(5.00)\n",
        "St1=input(\"Enter student's name: \")\n",
        "Grades()\n",
        "print(\"Name: \", St1)\n",
        "N()\n",
        "Num_Grades()\n",
        "St2=input(\"Enter student's name: \")\n",
        "Grades()\n",
        "print(\"Name: \", St2)\n",
        "N()\n",
        "Num_Grades()\n",
        "St3=input(\"Enter student's name: \")\n",
        "Grades()\n",
        "print(\"Name: \", St3)\n",
        "N()\n",
        "Num_Grades()"
      ]
    },
    {
      "cell_type": "code",
      "source": [
        "\n",
        "\n"
      ],
      "metadata": {
        "colab": {
          "base_uri": "https://localhost:8080/",
          "height": 108
        },
        "id": "8MXs_g9bp_ZF",
        "outputId": "7a42c0fd-d83b-4b97-a8c8-13782b7f9b3d"
      },
      "execution_count": null,
      "outputs": [
        {
          "output_type": "error",
          "ename": "SyntaxError",
          "evalue": "expected ':' (<ipython-input-8-a03d1a0c4874>, line 1)",
          "traceback": [
            "\u001b[0;36m  File \u001b[0;32m\"<ipython-input-8-a03d1a0c4874>\"\u001b[0;36m, line \u001b[0;32m1\u001b[0m\n\u001b[0;31m    def Grades()\u001b[0m\n\u001b[0m                ^\u001b[0m\n\u001b[0;31mSyntaxError\u001b[0m\u001b[0;31m:\u001b[0m expected ':'\n"
          ]
        }
      ]
    },
    {
      "cell_type": "markdown",
      "source": [
        "MIDTERM GRADE = 1/3 of PRELIM GRADE + 2/3 of (50% Midterm Exam + 50% Midterm Class Standing (CS))\n",
        "\n",
        "FINAL GRADE = 1/3 of MIDTERM GRADE + 2/3 of (50% Final Exam + 50% Final Class Standing (CS))"
      ],
      "metadata": {
        "id": "yD2MGvckZ62U"
      }
    },
    {
      "cell_type": "code",
      "source": [
        "def Num_Grades():\n",
        "  if FG>=94 and FG<=100:\n",
        "    print(1.00)\n",
        "  if FG>=88.5 and FG<=93.99:\n",
        "    print(1.25)\n",
        "  if FG>=83 and FG<=88.49:\n",
        "    print(1.50)\n",
        "  if FG>=77.5 and FG<=82.99:\n",
        "    print(1.75)\n",
        "  if FG>=72 and FG<=77.49:\n",
        "    print(2.00)\n",
        "  if FG>=65.5 and FG<=71.99:\n",
        "    print(2.25)\n",
        "  if FG>=61 and FG<=65.49:\n",
        "    print(2.50)\n",
        "  if FG>=55.5 and FG<=60.99:\n",
        "    print(2.75)\n",
        "  if FG>=50 and FG<=55.49:\n",
        "    print(3.00)\n",
        "  if FG>=0 and FG<=49.99:\n",
        "    print(5.00)\n",
        "\n",
        "FG=74\n",
        "Num_Grades()"
      ],
      "metadata": {
        "colab": {
          "base_uri": "https://localhost:8080/"
        },
        "id": "cDwWbgWFWr8T",
        "outputId": "21d11800-1e39-42d6-a4e9-756719735749"
      },
      "execution_count": null,
      "outputs": [
        {
          "output_type": "stream",
          "name": "stdout",
          "text": [
            "2.0\n"
          ]
        }
      ]
    },
    {
      "cell_type": "code",
      "source": [
        "def A():\n",
        "  return a\n",
        "def B():\n",
        "    print(a)\n",
        "\n",
        "a=A()\n",
        "B()"
      ],
      "metadata": {
        "colab": {
          "base_uri": "https://localhost:8080/"
        },
        "id": "G7600fRm4D9b",
        "outputId": "e88d520f-a91e-43b6-cb89-10e1102957b0"
      },
      "execution_count": null,
      "outputs": [
        {
          "output_type": "stream",
          "name": "stdout",
          "text": [
            "3\n"
          ]
        }
      ]
    }
  ]
}